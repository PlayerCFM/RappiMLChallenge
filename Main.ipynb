{
 "cells": [
  {
   "cell_type": "code",
   "execution_count": 1,
   "metadata": {},
   "outputs": [],
   "source": [
    "import pandas as pd\n",
    "\n",
    "from Models import SupportedModels\n",
    "from DataLoader.SupportedData import SupportedData\n",
    "from Models.ManageModels import ManageModels\n",
    "from Core.Metrics import Metrics\n",
    "\n",
    "import matplotlib.pyplot as plt\n",
    "from sklearn.feature_selection import RFE\n",
    "from sklearn.linear_model import LogisticRegression\n",
    "import subprocess\n",
    "import json\n",
    "\n",
    "import random\n",
    "random.seed(42)\n",
    "\n",
    "import numpy as np\n",
    "np.random.seed(42)"
   ]
  },
  {
   "attachments": {},
   "cell_type": "markdown",
   "metadata": {},
   "source": [
    "# Introduction"
   ]
  },
  {
   "attachments": {},
   "cell_type": "markdown",
   "metadata": {},
   "source": [
    "The code was made with an interface (/Models/ModelInterface.py) that acts as base to implement ML models from different libraries such as: SciKit-Learn, PyTorch, and more...\n",
    "The models currently supported by the project are listed in a Enumerator called SupportedModels\n",
    "\n",
    "Here is the list of models that are supported:"
   ]
  },
  {
   "cell_type": "code",
   "execution_count": 2,
   "metadata": {},
   "outputs": [
    {
     "name": "stdout",
     "output_type": "stream",
     "text": [
      "Models Available Are\n",
      "\t0) GradientBoostingModel\n",
      "\t1) MultiLayerPerceptronModel\n"
     ]
    }
   ],
   "source": [
    "supported_models_info = []\n",
    "\n",
    "print(\"Models Available Are\")\n",
    "\n",
    "for i, model_type in enumerate(SupportedModels.SupportedModels):\n",
    "    print(f\"\\t{i}) {model_type.name}\")"
   ]
  },
  {
   "attachments": {},
   "cell_type": "markdown",
   "metadata": {},
   "source": [
    "In addition, there is also an interface that should be implemented by a child class in order to support datasets from a different range of sources.\n",
    "In this case, the project only support the Titanic Dataset.\n",
    "\n",
    "The child class should implement the @abstract methods from the PreprocessInterface interface: \n",
    "    @RunPreprocessPipeline\n",
    "    @PreprocessTrainData\n",
    "    @PreprocessTestData\n",
    "This allows to perform different preprocessing steps for each dataset. Because the Titanic dataset does not have the same data cleaning/preprocessing as other dataset would have...\n",
    "\n",
    "The Scaler is also saved along the data.\n",
    "    Note: By now, the Standard scaler is the only scaler that is supported.\n",
    "\n",
    "Here is a list of all the data that is supported (again, only Titanic Dataset is supported)."
   ]
  },
  {
   "cell_type": "code",
   "execution_count": 3,
   "metadata": {},
   "outputs": [
    {
     "name": "stdout",
     "output_type": "stream",
     "text": [
      "\t0) TitanicData\n"
     ]
    }
   ],
   "source": [
    "for i, data_type in enumerate(SupportedData):\n",
    "    print(f\"\\t{i}) {data_type.name}\")"
   ]
  },
  {
   "attachments": {},
   "cell_type": "markdown",
   "metadata": {},
   "source": [
    "Let's load a model that was previously trained by using the CLI.\n",
    "After running the training pipeline, the CLI asks the user to save te model as .joblib format for future uses, and also saves a record in the saved_models.csv file with different attributes.\n",
    "\n",
    "Listing the models:"
   ]
  },
  {
   "cell_type": "code",
   "execution_count": 4,
   "metadata": {},
   "outputs": [
    {
     "name": "stdout",
     "output_type": "stream",
     "text": [
      "                   ModelType ModelModule     DataType         DataModule  \\\n",
      "0      GradientBoostingModel   Models.GB  TitanicData  DataLoader.Loader   \n",
      "1      GradientBoostingModel   Models.GB  TitanicData  DataLoader.Loader   \n",
      "2  MultiLayerPerceptronModel  Models.MLP  TitanicData  DataLoader.Loader   \n",
      "3      GradientBoostingModel   Models.GB  TitanicData  DataLoader.Loader   \n",
      "\n",
      "                    HourSaved  F1Score  \\\n",
      "0  2023-07-17 16:18:06.230180      NaN   \n",
      "1  2023-07-18 11:26:17.609396      NaN   \n",
      "2  2023-07-18 11:30:25.289042      NaN   \n",
      "3  2023-07-18 11:37:18.685504      NaN   \n",
      "\n",
      "                                        ModelSavedAt  \\\n",
      "0  ./Models/SavedModels/GradientBoostingModel-202...   \n",
      "1  ./Models/SavedModels/GradientBoostingModel-202...   \n",
      "2  ./Models/SavedModels/MultiLayerPerceptronModel...   \n",
      "3  ./Models/SavedModels/GradientBoostingModel-202...   \n",
      "\n",
      "                                       ScalerSavedAt  \n",
      "0  ./Models/SavedScalers/StandardScaler-2023-07-1...  \n",
      "1  ./Models/SavedScalers/StandardScaler-2023-07-1...  \n",
      "2  ./Models/SavedScalers/StandardScaler-2023-07-1...  \n",
      "3  ./Models/SavedScalers/StandardScaler-2023-07-1...  \n"
     ]
    }
   ],
   "source": [
    "modelsManager = ManageModels()\n",
    "savedModels = modelsManager.GetSavedModels()\n",
    "\n",
    "print(savedModels.head())"
   ]
  },
  {
   "attachments": {},
   "cell_type": "markdown",
   "metadata": {},
   "source": [
    "For this example, we are loading the model at the first record.\n",
    "Which correspond to a Gradient Boosting model."
   ]
  },
  {
   "cell_type": "code",
   "execution_count": 5,
   "metadata": {},
   "outputs": [],
   "source": [
    "selectedModel = savedModels.iloc[0]\n",
    "\n",
    "model, data_loader = modelsManager.LoadModelAndData(selectedModel)"
   ]
  },
  {
   "cell_type": "code",
   "execution_count": 6,
   "metadata": {},
   "outputs": [
    {
     "data": {
      "text/plain": [
       "ModelType                                    GradientBoostingModel\n",
       "ModelModule                                              Models.GB\n",
       "DataType                                               TitanicData\n",
       "DataModule                                       DataLoader.Loader\n",
       "HourSaved                               2023-07-17 16:18:06.230180\n",
       "F1Score                                                        NaN\n",
       "ModelSavedAt     ./Models/SavedModels/GradientBoostingModel-202...\n",
       "ScalerSavedAt    ./Models/SavedScalers/StandardScaler-2023-07-1...\n",
       "Name: 0, dtype: object"
      ]
     },
     "execution_count": 6,
     "metadata": {},
     "output_type": "execute_result"
    }
   ],
   "source": [
    "selectedModel"
   ]
  },
  {
   "attachments": {},
   "cell_type": "markdown",
   "metadata": {},
   "source": [
    "# Feature importance"
   ]
  },
  {
   "attachments": {},
   "cell_type": "markdown",
   "metadata": {},
   "source": [
    "One of the models that are supported in this project is based on Trees: SciKit-Learn's Gradient Boosting Classifier.\n",
    "\n",
    "As this model is based on trees, it fits *number of classes* regression trees based on the gradient of the loss function.\n",
    "Gradient boosting tree-based models have a feature importance attribute, because this allows them to understand which features are most important in making predictions and how much each feature contributes to the model's performance.\n",
    "\n",
    "We can see the feature importance (in percentage), i.e. how much the attribute contributes to the model, in the following chart.\n"
   ]
  },
  {
   "cell_type": "code",
   "execution_count": 8,
   "metadata": {},
   "outputs": [
    {
     "name": "stdout",
     "output_type": "stream",
     "text": [
      "[0.48193304 0.1313099  0.16806757 0.04536061 0.02836394 0.00311123\n",
      " 0.12245741 0.00172738 0.01766894]\n",
      "['Sex' 'Age' 'Fare' 'FamilySizeCategory' 'TicketClass_1' 'TicketClass_2'\n",
      " 'TicketClass_3' 'Embarked_Q' 'Embarked_S']\n"
     ]
    }
   ],
   "source": [
    "print(model.model.feature_importances_)\n",
    "print(model.model.feature_names_in_)"
   ]
  },
  {
   "cell_type": "code",
   "execution_count": 9,
   "metadata": {},
   "outputs": [
    {
     "data": {
      "text/plain": [
       "<AxesSubplot: ylabel='FeatureName'>"
      ]
     },
     "execution_count": 9,
     "metadata": {},
     "output_type": "execute_result"
    },
    {
     "data": {
      "image/png": "[encoded data removed]",
      "text/plain": [
       "<Figure size 640x480 with 1 Axes>"
      ]
     },
     "metadata": {},
     "output_type": "display_data"
    }
   ],
   "source": [
    "feature_importande_df=pd.DataFrame({'FeatureName':model.model.feature_names_in_,'Importance':model.model.feature_importances_})\n",
    "feature_importande_df.sort_values('Importance',inplace=True)\n",
    "feature_importande_df.plot(kind='barh',y='Importance',x='FeatureName')"
   ]
  },
  {
   "attachments": {},
   "cell_type": "markdown",
   "metadata": {},
   "source": [
    "As you can see, the feature that contributes the most to the classification of a sample is the Sex. This is because women are more likely to be saved than men.\n",
    "\n",
    "According to the training set data, 74% of women were saved on the Titanic. Against only 18% of men who managed to survive.\n",
    "\n",
    "On the other hand, the third feature with the biggest impact on predictions is age. This, together with the sex of the passenger, is perfectly in line with what we have heard for a long time **`\"Women and children first\"`** while evacuations are taking place."
   ]
  },
  {
   "cell_type": "code",
   "execution_count": 10,
   "metadata": {},
   "outputs": [
    {
     "data": {
      "text/plain": [
       "([<matplotlib.patches.Wedge at 0x13daaa1f0>,\n",
       "  <matplotlib.patches.Wedge at 0x13daaa820>],\n",
       " [Text(0.9119041173428964, 0.6151673599704987, 'Survived'),\n",
       "  Text(-0.911904146140958, -0.6151673172811853, 'Non-Survived')],\n",
       " [Text(0.497402245823398, 0.33554583271118105, '18.9%'),\n",
       "  Text(-0.49740226153143163, -0.33554580942610107, '81.1%')])"
      ]
     },
     "execution_count": 10,
     "metadata": {},
     "output_type": "execute_result"
    },
    {
     "data": {
      "image/png": "[encoded data removed]",
      "text/plain": [
       "<Figure size 640x480 with 2 Axes>"
      ]
     },
     "metadata": {},
     "output_type": "display_data"
    }
   ],
   "source": [
    "training_data = data_loader.Get_TrainData()\n",
    "\n",
    "fig, (ax1, ax2) = plt.subplots(1, 2)\n",
    "\n",
    "labels = 'Survived', 'Non-Survived'\n",
    "sizes = [\n",
    "    training_data.loc[(training_data['Sex']==\"female\") & (training_data['Survived']==1)].shape[0],\n",
    "    training_data[training_data['Sex']=='female'].shape[0]-training_data.loc[(training_data['Sex']==\"female\") & (training_data['Survived']==1)].shape[0]\n",
    "]\n",
    "ax1.set_title(\"Female survivors\")\n",
    "ax1.pie(sizes, labels=labels, autopct='%1.1f%%', )\n",
    "\n",
    "\n",
    "labels = 'Survived', 'Non-Survived'\n",
    "sizes = [\n",
    "    training_data.loc[(training_data['Sex']==\"male\") & (training_data['Survived']==1)].shape[0],\n",
    "    training_data[training_data['Sex']=='male'].shape[0]-training_data.loc[(training_data['Sex']==\"male\") & (training_data['Survived']==1)].shape[0]\n",
    "]\n",
    "ax2.set_title(\"Male survivors\")\n",
    "ax2.pie(sizes, labels=labels, autopct='%1.1f%%')"
   ]
  },
  {
   "attachments": {},
   "cell_type": "markdown",
   "metadata": {},
   "source": [
    "This could be a way to automatically select features. \n",
    "Tree-based models give the most relevant attributes more power in the final class decisions, while less relevant attributes have almost no impact on the class decision.\n",
    "\n",
    "Tree based models can select features because they belong to a type of algorithms called `embedded feature selection algorithms`. Embedded methods learn which features best contribute to the accuracy of the model while the model is being created.\n",
    "\n",
    "Although they can select features at the time they are created, feeding these models with any feature without proper preprocessing or feature filtering can make the model unable to find all the variations in the data, leading to poor performance.\n",
    "\n",
    "There are other models that do not perform feature selection at the time of creation. For these, we do have to analyse which features are most important.\n",
    "\n",
    "The most popular methods of Feature Selection are:\n",
    "* Pearson Correlation\n",
    "* Chi-Squared\n",
    "* Recursive Feature Elimination (RFE)\n",
    "* Lasso\n"
   ]
  },
  {
   "attachments": {},
   "cell_type": "markdown",
   "metadata": {},
   "source": [
    "For this extra exercise, I choose the RFE search method to perform feature selection.\n",
    "\n",
    "RFE (Recursive Feature Elimination) wrapper feature selection algorithm, which means that it uses a different machine learning algorithm at its core to assist in the feature selection process.\n",
    "Wrapper feature selection techniques generate many models with various subsets of input features and choose those features which give the best performance on some performance measure.\n",
    "\n",
    "To avoid fitting a very complex model, let's fit a simple logistic model an choose the 5 best attributes/features.\n",
    "The 4 left, are going to be ranked in order of importance."
   ]
  },
  {
   "cell_type": "code",
   "execution_count": 52,
   "metadata": {},
   "outputs": [],
   "source": [
    "train_x, train_Y, test_x, test_Y = data_loader.RunPreprocessPipeline()\n",
    "pred_y = model.Predict(test_x)"
   ]
  },
  {
   "cell_type": "code",
   "execution_count": 53,
   "metadata": {},
   "outputs": [
    {
     "name": "stdout",
     "output_type": "stream",
     "text": [
      "[ True  True False False  True False  True False  True]\n",
      "[1 1 4 2 1 3 1 5 1]\n"
     ]
    }
   ],
   "source": [
    "lr_model = LogisticRegression()\n",
    "rfe = RFE(lr_model, n_features_to_select=5, step=1)\n",
    "rfe = rfe.fit(train_x, train_Y)\n",
    "print(rfe.support_)\n",
    "print(rfe.ranking_)"
   ]
  },
  {
   "attachments": {},
   "cell_type": "markdown",
   "metadata": {},
   "source": [
    "The features marked as Selected=True should be used in a model without build-in feature selection.\n",
    "The other attributes (Selected=False) should be considered, according to their rank."
   ]
  },
  {
   "cell_type": "code",
   "execution_count": 54,
   "metadata": {},
   "outputs": [
    {
     "data": {
      "text/html": [
       "<div>\n",
       "<style scoped>\n",
       "    .dataframe tbody tr th:only-of-type {\n",
       "        vertical-align: middle;\n",
       "    }\n",
       "\n",
       "    .dataframe tbody tr th {\n",
       "        vertical-align: top;\n",
       "    }\n",
       "\n",
       "    .dataframe thead th {\n",
       "        text-align: right;\n",
       "    }\n",
       "</style>\n",
       "<table border=\"1\" class=\"dataframe\">\n",
       "  <thead>\n",
       "    <tr style=\"text-align: right;\">\n",
       "      <th></th>\n",
       "      <th>FeatureName</th>\n",
       "      <th>Selected</th>\n",
       "      <th>Ranking</th>\n",
       "    </tr>\n",
       "  </thead>\n",
       "  <tbody>\n",
       "    <tr>\n",
       "      <th>0</th>\n",
       "      <td>Sex</td>\n",
       "      <td>True</td>\n",
       "      <td>1</td>\n",
       "    </tr>\n",
       "    <tr>\n",
       "      <th>1</th>\n",
       "      <td>Age</td>\n",
       "      <td>True</td>\n",
       "      <td>1</td>\n",
       "    </tr>\n",
       "    <tr>\n",
       "      <th>4</th>\n",
       "      <td>TicketClass_1</td>\n",
       "      <td>True</td>\n",
       "      <td>1</td>\n",
       "    </tr>\n",
       "    <tr>\n",
       "      <th>6</th>\n",
       "      <td>TicketClass_3</td>\n",
       "      <td>True</td>\n",
       "      <td>1</td>\n",
       "    </tr>\n",
       "    <tr>\n",
       "      <th>8</th>\n",
       "      <td>Embarked_S</td>\n",
       "      <td>True</td>\n",
       "      <td>1</td>\n",
       "    </tr>\n",
       "    <tr>\n",
       "      <th>3</th>\n",
       "      <td>FamilySizeCategory</td>\n",
       "      <td>False</td>\n",
       "      <td>2</td>\n",
       "    </tr>\n",
       "    <tr>\n",
       "      <th>5</th>\n",
       "      <td>TicketClass_2</td>\n",
       "      <td>False</td>\n",
       "      <td>3</td>\n",
       "    </tr>\n",
       "    <tr>\n",
       "      <th>2</th>\n",
       "      <td>Fare</td>\n",
       "      <td>False</td>\n",
       "      <td>4</td>\n",
       "    </tr>\n",
       "    <tr>\n",
       "      <th>7</th>\n",
       "      <td>Embarked_Q</td>\n",
       "      <td>False</td>\n",
       "      <td>5</td>\n",
       "    </tr>\n",
       "  </tbody>\n",
       "</table>\n",
       "</div>"
      ],
      "text/plain": [
       "          FeatureName  Selected  Ranking\n",
       "0                 Sex      True        1\n",
       "1                 Age      True        1\n",
       "4       TicketClass_1      True        1\n",
       "6       TicketClass_3      True        1\n",
       "8          Embarked_S      True        1\n",
       "3  FamilySizeCategory     False        2\n",
       "5       TicketClass_2     False        3\n",
       "2                Fare     False        4\n",
       "7          Embarked_Q     False        5"
      ]
     },
     "execution_count": 54,
     "metadata": {},
     "output_type": "execute_result"
    }
   ],
   "source": [
    "pd.DataFrame({\n",
    "    \"FeatureName\": train_x.columns,\n",
    "    \"Selected\": rfe.support_,\n",
    "    \"Ranking\": rfe.ranking_\n",
    "}).sort_values(\"Ranking\")"
   ]
  },
  {
   "attachments": {},
   "cell_type": "markdown",
   "metadata": {},
   "source": [
    "RFE is a simple way to select features, however:\n",
    "* It is expensive as it tries with a different combination of feature sets.\n",
    "* It is recommended to use RFE along Cross Validation in order to search for the most optimal number of features (in this example, I choose 5 stochastically but, it could be the case were the most optimal number of features is 7, for instance)."
   ]
  },
  {
   "attachments": {},
   "cell_type": "markdown",
   "metadata": {},
   "source": [
    "# Performance"
   ]
  },
  {
   "attachments": {},
   "cell_type": "markdown",
   "metadata": {},
   "source": [
    "There are several metrics to analyze the performance of a machine learning classification model, the ones I included are\n",
    "* F1-Score.\n",
    "* ROC AUC.\n",
    "* Confusion Matrix.\n",
    "\n",
    "The results of a classification depend rely mainly on the treeshold that you choose to classify a sample into one class or another.\n",
    "Generally, the treeshold is set to 0.5. Where the sample with classification rate <0.5 will be classified as 0. On the other hand, samples with rate >=0.5 will be classified are 1.\n",
    "\n",
    "This simple threeshold can change the results in the metrics completly.\n",
    "For this exercise, I left the 0.5 as default.\n",
    "\n",
    "Talking about the metrics. Choosing the right one is dependent on the problem and where you are looking to make the least mistakes.\n",
    "\n",
    "\n",
    "**For example**, in medical results (such as detecting whether a person has a disease or not) we should aim to have an excellent true-positive rate as this is the priority for detection/classification. However, we should not neglect true negatives.\n",
    "\n",
    "For the example of medical results, we want to have a high **Recall**, as this takes into account; the correctly classified positive results in a test, and the tests where a person with a positive result was classified as negative.\n",
    "\n",
    "------------------------\n",
    "\n",
    "For the titanic dataset, the positive class (survived) has undersampling, so the **Accuracy** metric should not be used. Why? Accuracy is a bad metric with unbalanced datasets because, if we have for example a dataset with 10000:1 ratio of positive class samples over negative class samples, we will get a model with a high Accuracy even if we classify everything as positive class because it is the one mostly found in our data (99%).\n",
    "\n",
    "**For this dataset, I propose to use the F1 Score because this is the harmonic mean of precision and recall, and is a good metric to use when both precision and recall are important.**\n",
    "\n",
    "One more thing: Remember when I talked about choosing the right threeshold at the beginning of this cell?\n",
    "This is because we can also use the ROC AUC score to get how good the model is based on the positive rate and false positive rate.\n",
    "This metric changes depending on the threeshold we select for the classifications.\n",
    "\n",
    "We can try threesholds of different values, such as 0.6, 0.43, 0.55, etc... And select the threeshold that best suits our rates.\n",
    "\n"
   ]
  },
  {
   "cell_type": "code",
   "execution_count": 55,
   "metadata": {},
   "outputs": [
    {
     "name": "stdout",
     "output_type": "stream",
     "text": [
      "\n",
      "\n",
      "F1: \n",
      "0.8111888111888113\n",
      "\n",
      "\n",
      "Area Under Curve: \n",
      "0.8477443609022556\n",
      "\n",
      "\n",
      "Confusion Matrix: \n",
      "[[248  18]\n",
      " [ 36 116]]\n"
     ]
    }
   ],
   "source": [
    "pred_y = model.Predict(data_loader.test_x)\n",
    "\n",
    "metrics_result = Metrics().ClassificationMetrics(data_loader.test_Y, pred_y)\n",
    "for i, metric in enumerate(metrics_result):\n",
    "    print(f\"\\n\\n{metric}: \\n{metrics_result[metric]}\")"
   ]
  },
  {
   "attachments": {},
   "cell_type": "markdown",
   "metadata": {},
   "source": [
    "Is it a good model?\n",
    "\n",
    "There are several reasons to justify the use of this machine learning model with an F1 score of >80%:\n",
    "\n",
    "* Balancing precision and recall: The F1 score combines both precision and recall into a single metric, giving equal weight to each. This is important in scenarios where both false positive results and false negative results can have a significant impact. The model demonstrates a good balance between correctly identifying positive examples and minimising false positives by achieving an F1 score of 80%.\n",
    "\n",
    "* Handling unbalanced datasets: The F1 score is particularly useful when dealing with unbalanced datasets, where one class may have significantly more samples than the other. Accuracy alone may not provide an accurate assessment of model performance in such cases. The F1-Score takes into account the performance of the model on both classes, providing a more comprehensive evaluation.\n",
    "\n",
    "* Class-wise performance: The F1 score assesses the predictive ability of the model by looking at its performance on a class-by-class basis. This means that rather than giving an overall performance, it assesses the performance of the model on each class separately. This can be useful when looking to see how the model performs on different classes. **An F1 score of 80% is an indication that the model has good performance and a high level of accuracy. While there may be room for improvement.**\n",
    "\n",
    "\n",
    "\n",
    "__Overall, especially when considering the specific context, dataset and requirements of the problem at hand, a machine learning model with an F1 score of 80% can be considered reliable and effective.__"
   ]
  },
  {
   "attachments": {},
   "cell_type": "markdown",
   "metadata": {},
   "source": [
    "Here is an example of Prediction.\n",
    "Let's take the Person in the testing dataset at index `51` and send this information as model's data in order to perform a prediction."
   ]
  },
  {
   "cell_type": "code",
   "execution_count": 70,
   "metadata": {},
   "outputs": [
    {
     "name": "stdout",
     "output_type": "stream",
     "text": [
      "Passenger information     Sex       Age      Fare  FamilySizeCategory  TicketClass_1  TicketClass_2  \\\n",
      "51    0 -0.181487 -0.345731                   0              0              1   \n",
      "\n",
      "    TicketClass_3  Embarked_Q  Embarked_S  \n",
      "51              0           0           0  \n",
      "\n",
      "\n",
      "Predicted value:  0\n",
      "True:  0\n"
     ]
    }
   ],
   "source": [
    "titanic_sample = test_x.iloc[[51]]\n",
    "titanic_sample\n",
    "\n",
    "print(f\"Passenger information {titanic_sample}\")\n",
    "\n",
    "test_Y.index[titanic_sample.index]\n",
    "print(\"\\n\\nPredicted value: \",model.Predict(test_x.sample())[0])\n",
    "print(\"True: \",int(test_Y[titanic_sample.index]))"
   ]
  },
  {
   "attachments": {},
   "cell_type": "markdown",
   "metadata": {},
   "source": [
    "# Deployment"
   ]
  },
  {
   "attachments": {},
   "cell_type": "markdown",
   "metadata": {},
   "source": [
    "How can we put into production a model that we are satisfied with according to the metrics?\n",
    "Since we are storing the weights of the models in a folder, we can read them directly from the directory where they are located and put them into production.\n",
    "The most common way to do this is to expose them through an API.\n",
    "\n",
    "In Python there are several libraries that allow us to create a web server with very few lines of code. One of them is FastAPI. Combining FastAPI with Docker offers us a very powerful way of containerization that will help us to lift an API from our model and it can start being consumed in a matter of minutes.\n",
    "\n",
    "My approach to send a model to Production would be the following:\n",
    "\n",
    "1. Build a FastAPI based project with POST requests so that the model can make inferences.\n",
    "2. The FastAPI code should read the selected model from the specified directory, and then load it.\n",
    "3. Generate a Dockerfile (that you can find in the root directory of this project) containing different steps such as:\n",
    "    * Using a Python based base image.\n",
    "    * Install the project requirements.\n",
    "    * Copy the FastAPI-based project files to the directory, for example, /app of the container.\n",
    "    * install the requirements from the requirements.txt file\n",
    "    * Expose the container port\n",
    "    * Run the FastAPI project\n",
    "4. Use a Virtual Machine from an On-Premise or a Cloud environment to host our code.\n",
    "\n",
    "`*This is a general pipeline*. Other aspects should also be covered like`:\n",
    "* Store Logging information.\n",
    "* Monitor the performance of the model over time.\n",
    "* Scaling to support of houndreds of users.\n",
    "* Addind security measures.\n",
    "* And more...\n",
    "\n",
    "## Cloud Architecture\n",
    "For deploying this machine learning model, I would suggest to select an architecture based on the following question: \"Do we need to inference data in real time?\"\n",
    "If the answer is Yes, then we should consider use a real-time (or \"online) archirecture: This type of architecture allow use to receive a query and return an inference as it is received with a very low latency between client and server. However, this is a very expensive to implement.\n",
    "If the answer it No, we can use a batch processing architecture where the model processed a batch of data instead of just a single record to then make an inference on that batch of data. This architecture should be used when the reponse time is not important and working with a large volume of data.\n",
    "\n",
    "I also suggets to use a more automated pipeline for deployment, by using AWS:\n",
    "* Data storage: Store the training and testing data in a Amazon S3 Bucket.\n",
    "* Data preprocessing: Create an AWS Lambda for pre-processing our dataset. Lambda is recommended over a continuously running python script because the preprocessing step for training a model runs just once.\n",
    "* Model training: Use Amazon SageMaker to create, train and deploy the model into production.\n",
    "    * Store model weights back to the S3 Bucket.\n",
    "* Model evaluation: Use Amazon SageMaker as well.\n",
    "\n",
    "* Note; Alternatively, we can train the model using a EC3 instance and expose a web server.\n",
    "\n",
    "Amazon Web Services also helps with load balacing and by using a Kubernetes serice to manage all the containers."
   ]
  },
  {
   "attachments": {},
   "cell_type": "markdown",
   "metadata": {},
   "source": [
    "# Coverage Report"
   ]
  },
  {
   "attachments": {},
   "cell_type": "markdown",
   "metadata": {},
   "source": [
    "We can run a Coverage report, which indicates the effectiveness of the unit test written.\n",
    "This coverage report indicates which parts of the code are executed by the testing and with others are not.\n",
    "\n",
    "The following cells ejecute the Coverage report generation which you can see in a DataFrame format."
   ]
  },
  {
   "cell_type": "code",
   "execution_count": 2,
   "metadata": {},
   "outputs": [
    {
     "name": "stdout",
     "output_type": "stream",
     "text": [
      "Wrote JSON report to ./Tests/Output/Json/coverage.json\n"
     ]
    }
   ],
   "source": [
    "subprocess.run([\"coverage\", \"json\", \"-o\" ,\"./Tests/Output/Json/coverage.json\"])\n",
    "\n",
    "coverage_report = None\n",
    "\n",
    "with open('./Tests/Output/Json/coverage.json') as f:\n",
    "    coverage_report = json.load(f)"
   ]
  },
  {
   "cell_type": "code",
   "execution_count": 72,
   "metadata": {},
   "outputs": [
    {
     "name": "stdout",
     "output_type": "stream",
     "text": [
      "Overval Coverage: 62\n"
     ]
    },
    {
     "data": {
      "text/html": [
       "<div>\n",
       "<style scoped>\n",
       "    .dataframe tbody tr th:only-of-type {\n",
       "        vertical-align: middle;\n",
       "    }\n",
       "\n",
       "    .dataframe tbody tr th {\n",
       "        vertical-align: top;\n",
       "    }\n",
       "\n",
       "    .dataframe thead th {\n",
       "        text-align: right;\n",
       "    }\n",
       "</style>\n",
       "<table border=\"1\" class=\"dataframe\">\n",
       "  <thead>\n",
       "    <tr style=\"text-align: right;\">\n",
       "      <th></th>\n",
       "      <th>Module</th>\n",
       "      <th>Statements</th>\n",
       "      <th>Covered Lines</th>\n",
       "      <th>Missing</th>\n",
       "      <th>Coverage</th>\n",
       "      <th>Excluded</th>\n",
       "    </tr>\n",
       "  </thead>\n",
       "  <tbody>\n",
       "    <tr>\n",
       "      <th>9</th>\n",
       "      <td>Models/__init__.py</td>\n",
       "      <td>0</td>\n",
       "      <td>0</td>\n",
       "      <td>0</td>\n",
       "      <td>100</td>\n",
       "      <td>0</td>\n",
       "    </tr>\n",
       "    <tr>\n",
       "      <th>5</th>\n",
       "      <td>DataLoader/__init__.py</td>\n",
       "      <td>0</td>\n",
       "      <td>0</td>\n",
       "      <td>0</td>\n",
       "      <td>100</td>\n",
       "      <td>0</td>\n",
       "    </tr>\n",
       "    <tr>\n",
       "      <th>17</th>\n",
       "      <td>Utils/__init__.py</td>\n",
       "      <td>0</td>\n",
       "      <td>0</td>\n",
       "      <td>0</td>\n",
       "      <td>100</td>\n",
       "      <td>0</td>\n",
       "    </tr>\n",
       "    <tr>\n",
       "      <th>16</th>\n",
       "      <td>Utils/Settings.py</td>\n",
       "      <td>6</td>\n",
       "      <td>6</td>\n",
       "      <td>0</td>\n",
       "      <td>100</td>\n",
       "      <td>0</td>\n",
       "    </tr>\n",
       "    <tr>\n",
       "      <th>10</th>\n",
       "      <td>Tests/__init__.py</td>\n",
       "      <td>0</td>\n",
       "      <td>0</td>\n",
       "      <td>0</td>\n",
       "      <td>100</td>\n",
       "      <td>0</td>\n",
       "    </tr>\n",
       "    <tr>\n",
       "      <th>18</th>\n",
       "      <td>__init__.py</td>\n",
       "      <td>0</td>\n",
       "      <td>0</td>\n",
       "      <td>0</td>\n",
       "      <td>100</td>\n",
       "      <td>0</td>\n",
       "    </tr>\n",
       "    <tr>\n",
       "      <th>4</th>\n",
       "      <td>DataLoader/SupportedScalers.py</td>\n",
       "      <td>5</td>\n",
       "      <td>5</td>\n",
       "      <td>0</td>\n",
       "      <td>100</td>\n",
       "      <td>0</td>\n",
       "    </tr>\n",
       "    <tr>\n",
       "      <th>2</th>\n",
       "      <td>Core/__init__.py</td>\n",
       "      <td>0</td>\n",
       "      <td>0</td>\n",
       "      <td>0</td>\n",
       "      <td>100</td>\n",
       "      <td>0</td>\n",
       "    </tr>\n",
       "    <tr>\n",
       "      <th>3</th>\n",
       "      <td>DataLoader/Loader.py</td>\n",
       "      <td>56</td>\n",
       "      <td>54</td>\n",
       "      <td>2</td>\n",
       "      <td>96</td>\n",
       "      <td>0</td>\n",
       "    </tr>\n",
       "    <tr>\n",
       "      <th>0</th>\n",
       "      <td>Core/Metrics.py</td>\n",
       "      <td>17</td>\n",
       "      <td>14</td>\n",
       "      <td>3</td>\n",
       "      <td>82</td>\n",
       "      <td>0</td>\n",
       "    </tr>\n",
       "    <tr>\n",
       "      <th>12</th>\n",
       "      <td>Tests/test_loader.py</td>\n",
       "      <td>18</td>\n",
       "      <td>14</td>\n",
       "      <td>4</td>\n",
       "      <td>78</td>\n",
       "      <td>0</td>\n",
       "    </tr>\n",
       "    <tr>\n",
       "      <th>14</th>\n",
       "      <td>Tests/test_modelsmanager.py</td>\n",
       "      <td>18</td>\n",
       "      <td>10</td>\n",
       "      <td>8</td>\n",
       "      <td>56</td>\n",
       "      <td>0</td>\n",
       "    </tr>\n",
       "    <tr>\n",
       "      <th>6</th>\n",
       "      <td>Models/GB.py</td>\n",
       "      <td>15</td>\n",
       "      <td>8</td>\n",
       "      <td>7</td>\n",
       "      <td>53</td>\n",
       "      <td>0</td>\n",
       "    </tr>\n",
       "    <tr>\n",
       "      <th>8</th>\n",
       "      <td>Models/ModelInterface.py</td>\n",
       "      <td>17</td>\n",
       "      <td>9</td>\n",
       "      <td>8</td>\n",
       "      <td>53</td>\n",
       "      <td>0</td>\n",
       "    </tr>\n",
       "    <tr>\n",
       "      <th>13</th>\n",
       "      <td>Tests/test_metrics.py</td>\n",
       "      <td>19</td>\n",
       "      <td>10</td>\n",
       "      <td>9</td>\n",
       "      <td>53</td>\n",
       "      <td>0</td>\n",
       "    </tr>\n",
       "    <tr>\n",
       "      <th>15</th>\n",
       "      <td>Utils/DownloadData.py</td>\n",
       "      <td>2</td>\n",
       "      <td>1</td>\n",
       "      <td>1</td>\n",
       "      <td>50</td>\n",
       "      <td>0</td>\n",
       "    </tr>\n",
       "    <tr>\n",
       "      <th>11</th>\n",
       "      <td>Tests/test_interfaces.py</td>\n",
       "      <td>61</td>\n",
       "      <td>28</td>\n",
       "      <td>33</td>\n",
       "      <td>46</td>\n",
       "      <td>0</td>\n",
       "    </tr>\n",
       "    <tr>\n",
       "      <th>7</th>\n",
       "      <td>Models/ManageModels.py</td>\n",
       "      <td>31</td>\n",
       "      <td>12</td>\n",
       "      <td>19</td>\n",
       "      <td>39</td>\n",
       "      <td>0</td>\n",
       "    </tr>\n",
       "    <tr>\n",
       "      <th>1</th>\n",
       "      <td>Core/PreprocessInterface.py</td>\n",
       "      <td>33</td>\n",
       "      <td>13</td>\n",
       "      <td>20</td>\n",
       "      <td>39</td>\n",
       "      <td>0</td>\n",
       "    </tr>\n",
       "  </tbody>\n",
       "</table>\n",
       "</div>"
      ],
      "text/plain": [
       "                            Module  Statements  Covered Lines  Missing  \\\n",
       "9               Models/__init__.py           0              0        0   \n",
       "5           DataLoader/__init__.py           0              0        0   \n",
       "17               Utils/__init__.py           0              0        0   \n",
       "16               Utils/Settings.py           6              6        0   \n",
       "10               Tests/__init__.py           0              0        0   \n",
       "18                     __init__.py           0              0        0   \n",
       "4   DataLoader/SupportedScalers.py           5              5        0   \n",
       "2                 Core/__init__.py           0              0        0   \n",
       "3             DataLoader/Loader.py          56             54        2   \n",
       "0                  Core/Metrics.py          17             14        3   \n",
       "12            Tests/test_loader.py          18             14        4   \n",
       "14     Tests/test_modelsmanager.py          18             10        8   \n",
       "6                     Models/GB.py          15              8        7   \n",
       "8         Models/ModelInterface.py          17              9        8   \n",
       "13           Tests/test_metrics.py          19             10        9   \n",
       "15           Utils/DownloadData.py           2              1        1   \n",
       "11        Tests/test_interfaces.py          61             28       33   \n",
       "7           Models/ManageModels.py          31             12       19   \n",
       "1      Core/PreprocessInterface.py          33             13       20   \n",
       "\n",
       "    Coverage  Excluded  \n",
       "9        100         0  \n",
       "5        100         0  \n",
       "17       100         0  \n",
       "16       100         0  \n",
       "10       100         0  \n",
       "18       100         0  \n",
       "4        100         0  \n",
       "2        100         0  \n",
       "3         96         0  \n",
       "0         82         0  \n",
       "12        78         0  \n",
       "14        56         0  \n",
       "6         53         0  \n",
       "8         53         0  \n",
       "13        53         0  \n",
       "15        50         0  \n",
       "11        46         0  \n",
       "7         39         0  \n",
       "1         39         0  "
      ]
     },
     "execution_count": 72,
     "metadata": {},
     "output_type": "execute_result"
    }
   ],
   "source": [
    "coverage_report\n",
    "coverage_data = []\n",
    "for file in coverage_report['files']:\n",
    "    coverage_data.append({\n",
    "        \"Module\": file,\n",
    "        \"Statements\": coverage_report['files'][file]['summary']['num_statements'] ,\n",
    "        \"Covered Lines\":coverage_report['files'][file]['summary']['covered_lines'] ,\n",
    "        \"Missing\":coverage_report['files'][file]['summary']['missing_lines'] ,\n",
    "        \"Coverage\":int(coverage_report['files'][file]['summary']['percent_covered_display']) ,\n",
    "        \"Excluded\":coverage_report['files'][file]['summary']['excluded_lines'] ,\n",
    "    })\n",
    "\n",
    "print(f\"Overval Coverage: {coverage_report['totals']['percent_covered_display']}\")\n",
    "pd.DataFrame(coverage_data).sort_values(by=['Coverage'], ascending=False)"
   ]
  },
  {
   "attachments": {},
   "cell_type": "markdown",
   "metadata": {},
   "source": [
    "The table presents all the files that are part of the project and how the unit test process covered them.\n",
    "\n",
    "The table is comprised of the following columns:\n",
    "\n",
    "* Module: Name of the file.\n",
    "* Statements: Number of executable statements in a Python program\n",
    "* Covered Lines: Number of lines that were executed out of the total lines part of the coverage.\n",
    "* Missing: How many lines were not executed from the total statements in the coverage run.\n",
    "* Coverage: Coverage of lines executed in percentage.\n",
    "* Excluded: Lines not part of the Coverage execution.\n",
    "\n",
    "--------------------\n",
    "\n",
    "With coverage reports, we aim to get close to 100% coverage, because that way we can be sure that most of our code is properly tested before it goes into production.\n",
    "\n",
    "However, there is some debate in the community about achieving such a percentage because it can be time-consuming, expensive, and otherwise inconvenient.\n",
    "\n",
    "While code coverage is important to ensure the effectiveness of unit tests, it is not always necessary or practical to aim for 100% coverage. Focusing on writing high-quality tests that cover critical functionality, and prioritizing testing efforts based on the specific needs of the project, is more important."
   ]
  },
  {
   "attachments": {},
   "cell_type": "markdown",
   "metadata": {},
   "source": [
    "We can also run the pytest and see how many of our unit tests are passed or failed."
   ]
  },
  {
   "cell_type": "code",
   "execution_count": 3,
   "metadata": {},
   "outputs": [
    {
     "name": "stdout",
     "output_type": "stream",
     "text": [
      "============================= test session starts ==============================\n",
      "platform darwin -- Python 3.9.12, pytest-7.4.0, pluggy-1.2.0\n",
      "rootdir: /Users/carloflo/Documents/Me/Rp\n",
      "collected 10 items\n",
      "\n",
      "Tests/test_interfaces.py ..                                              [ 20%]\n",
      "Tests/test_loader.py ..                                                  [ 40%]\n",
      "Tests/test_metrics.py ....                                               [ 80%]\n",
      "Tests/test_modelsmanager.py ..                                           [100%]\n",
      "\n",
      "============================== 10 passed in 1.88s ==============================\n"
     ]
    },
    {
     "data": {
      "text/plain": [
       "CompletedProcess(args=['python', '-m', 'pytest'], returncode=0)"
      ]
     },
     "execution_count": 3,
     "metadata": {},
     "output_type": "execute_result"
    }
   ],
   "source": [
    "subprocess.run([\"python\", \"-m\", \"pytest\"])"
   ]
  },
  {
   "attachments": {},
   "cell_type": "markdown",
   "metadata": {},
   "source": [
    "The next cell opens the browser and allows us to see in a more visual way which lines were not executed in our Coverage test, and to be able to cover with unit tests the parts that we believe are more critical to test."
   ]
  },
  {
   "cell_type": "code",
   "execution_count": 73,
   "metadata": {},
   "outputs": [
    {
     "name": "stdout",
     "output_type": "stream",
     "text": [
      "Wrote HTML report to ./Tests/Output/Html/index.html\n"
     ]
    },
    {
     "data": {
      "text/plain": [
       "CompletedProcess(args=['open', './Tests/Output/Html/index.html'], returncode=0)"
      ]
     },
     "execution_count": 73,
     "metadata": {},
     "output_type": "execute_result"
    }
   ],
   "source": [
    "subprocess.run([\"coverage\", \"html\", \"-d\" ,\"./Tests/Output/Html/\"])\n",
    "subprocess.run([\"open\", \"./Tests/Output/Html/index.html\"])"
   ]
  },
  {
   "cell_type": "code",
   "execution_count": null,
   "metadata": {},
   "outputs": [],
   "source": []
  }
 ],
 "metadata": {
  "kernelspec": {
   "display_name": "sranalysis",
   "language": "python",
   "name": "python3"
  },
  "language_info": {
   "codemirror_mode": {
    "name": "ipython",
    "version": 3
   },
   "file_extension": ".py",
   "mimetype": "text/x-python",
   "name": "python",
   "nbconvert_exporter": "python",
   "pygments_lexer": "ipython3",
   "version": "3.9.12"
  },
  "orig_nbformat": 4
 },
 "nbformat": 4,
 "nbformat_minor": 2
}
